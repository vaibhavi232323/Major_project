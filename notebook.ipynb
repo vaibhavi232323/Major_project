{
 "cells": [
  {
   "cell_type": "markdown",
   "metadata": {
    "_uuid": "f878562df7c40756e1a827e741c4d4c84fca1b4c"
   },
   "source": [
    "## Import the necessary libraries"
   ]
  },
  {
   "cell_type": "code",
   "execution_count": 1,
   "metadata": {
    "_uuid": "0856f2dd268ecca7c87f5c56d14600f05f5c5f1c"
   },
   "outputs": [],
   "source": [
    "import pandas as pd\n",
    "import numpy as np\n",
    "import matplotlib.pyplot as plt\n",
    "import seaborn as sns\n",
    "from sklearn.model_selection import train_test_split\n",
    "from sklearn.metrics import classification_report, accuracy_score\n",
    "from sklearn.preprocessing import Normalizer\n",
    "%matplotlib inline\n",
    "plt.style.use('fivethirtyeight')"
   ]
  },
  {
   "cell_type": "markdown",
   "metadata": {
    "_uuid": "c4004fe4028a70d96a6669a712e7f6a554d8d2b7"
   },
   "source": [
    "## Load the dataset into a Pandas dataframe"
   ]
  },
  {
   "cell_type": "code",
   "execution_count": 2,
   "metadata": {
    "_uuid": "cdf0f0199ec34ddac755fb3173b5ae8b76e23219"
   },
   "outputs": [
    {
     "data": {
      "text/html": [
       "<div>\n",
       "<style scoped>\n",
       "    .dataframe tbody tr th:only-of-type {\n",
       "        vertical-align: middle;\n",
       "    }\n",
       "\n",
       "    .dataframe tbody tr th {\n",
       "        vertical-align: top;\n",
       "    }\n",
       "\n",
       "    .dataframe thead th {\n",
       "        text-align: right;\n",
       "    }\n",
       "</style>\n",
       "<table border=\"1\" class=\"dataframe\">\n",
       "  <thead>\n",
       "    <tr style=\"text-align: right;\">\n",
       "      <th></th>\n",
       "      <th>age</th>\n",
       "      <th>sex</th>\n",
       "      <th>dataset</th>\n",
       "      <th>cp</th>\n",
       "      <th>trestbps</th>\n",
       "      <th>chol</th>\n",
       "      <th>fbs</th>\n",
       "      <th>restecg</th>\n",
       "      <th>thalch</th>\n",
       "      <th>exang</th>\n",
       "      <th>oldpeak</th>\n",
       "      <th>slope</th>\n",
       "      <th>ca</th>\n",
       "      <th>thal</th>\n",
       "      <th>num</th>\n",
       "    </tr>\n",
       "  </thead>\n",
       "  <tbody>\n",
       "    <tr>\n",
       "      <th>0</th>\n",
       "      <td>28</td>\n",
       "      <td>Male</td>\n",
       "      <td>Cleveland</td>\n",
       "      <td>atypical angina</td>\n",
       "      <td>130.0</td>\n",
       "      <td>132.0</td>\n",
       "      <td>False</td>\n",
       "      <td>lv hypertrophy</td>\n",
       "      <td>185.0</td>\n",
       "      <td>False</td>\n",
       "      <td>0.0</td>\n",
       "      <td>NaN</td>\n",
       "      <td>NaN</td>\n",
       "      <td>NaN</td>\n",
       "      <td>0</td>\n",
       "    </tr>\n",
       "    <tr>\n",
       "      <th>1</th>\n",
       "      <td>29</td>\n",
       "      <td>Male</td>\n",
       "      <td>Cleveland</td>\n",
       "      <td>atypical angina</td>\n",
       "      <td>130.0</td>\n",
       "      <td>204.0</td>\n",
       "      <td>False</td>\n",
       "      <td>lv hypertrophy</td>\n",
       "      <td>202.0</td>\n",
       "      <td>False</td>\n",
       "      <td>0.0</td>\n",
       "      <td>upsloping</td>\n",
       "      <td>0.0</td>\n",
       "      <td>normal</td>\n",
       "      <td>0</td>\n",
       "    </tr>\n",
       "    <tr>\n",
       "      <th>2</th>\n",
       "      <td>29</td>\n",
       "      <td>Male</td>\n",
       "      <td>Hungary</td>\n",
       "      <td>atypical angina</td>\n",
       "      <td>120.0</td>\n",
       "      <td>243.0</td>\n",
       "      <td>False</td>\n",
       "      <td>normal</td>\n",
       "      <td>160.0</td>\n",
       "      <td>False</td>\n",
       "      <td>0.0</td>\n",
       "      <td>NaN</td>\n",
       "      <td>NaN</td>\n",
       "      <td>NaN</td>\n",
       "      <td>0</td>\n",
       "    </tr>\n",
       "    <tr>\n",
       "      <th>3</th>\n",
       "      <td>29</td>\n",
       "      <td>Male</td>\n",
       "      <td>Hungary</td>\n",
       "      <td>atypical angina</td>\n",
       "      <td>140.0</td>\n",
       "      <td>NaN</td>\n",
       "      <td>False</td>\n",
       "      <td>normal</td>\n",
       "      <td>170.0</td>\n",
       "      <td>False</td>\n",
       "      <td>0.0</td>\n",
       "      <td>NaN</td>\n",
       "      <td>NaN</td>\n",
       "      <td>NaN</td>\n",
       "      <td>0</td>\n",
       "    </tr>\n",
       "    <tr>\n",
       "      <th>4</th>\n",
       "      <td>30</td>\n",
       "      <td>Female</td>\n",
       "      <td>Hungary</td>\n",
       "      <td>typical angina</td>\n",
       "      <td>170.0</td>\n",
       "      <td>237.0</td>\n",
       "      <td>False</td>\n",
       "      <td>st-t abnormality</td>\n",
       "      <td>170.0</td>\n",
       "      <td>False</td>\n",
       "      <td>0.0</td>\n",
       "      <td>NaN</td>\n",
       "      <td>NaN</td>\n",
       "      <td>fixed defect</td>\n",
       "      <td>0</td>\n",
       "    </tr>\n",
       "  </tbody>\n",
       "</table>\n",
       "</div>"
      ],
      "text/plain": [
       "   age     sex    dataset               cp  trestbps   chol    fbs  \\\n",
       "0   28    Male  Cleveland  atypical angina     130.0  132.0  False   \n",
       "1   29    Male  Cleveland  atypical angina     130.0  204.0  False   \n",
       "2   29    Male    Hungary  atypical angina     120.0  243.0  False   \n",
       "3   29    Male    Hungary  atypical angina     140.0    NaN  False   \n",
       "4   30  Female    Hungary   typical angina     170.0  237.0  False   \n",
       "\n",
       "            restecg  thalch  exang  oldpeak      slope   ca          thal  num  \n",
       "0    lv hypertrophy   185.0  False      0.0        NaN  NaN           NaN    0  \n",
       "1    lv hypertrophy   202.0  False      0.0  upsloping  0.0        normal    0  \n",
       "2            normal   160.0  False      0.0        NaN  NaN           NaN    0  \n",
       "3            normal   170.0  False      0.0        NaN  NaN           NaN    0  \n",
       "4  st-t abnormality   170.0  False      0.0        NaN  NaN  fixed defect    0  "
      ]
     },
     "execution_count": 2,
     "metadata": {},
     "output_type": "execute_result"
    }
   ],
   "source": [
    "df = pd.read_csv('heart_disease_uci.csv')\n",
    "df.head()"
   ]
  },
  {
   "cell_type": "code",
   "execution_count": 3,
   "metadata": {},
   "outputs": [
    {
     "data": {
      "text/plain": [
       "Cleveland        3649\n",
       "Hungary          3554\n",
       "VA Long Beach    1812\n",
       "Name: dataset, dtype: int64"
      ]
     },
     "execution_count": 3,
     "metadata": {},
     "output_type": "execute_result"
    }
   ],
   "source": [
    "df['dataset'].value_counts()"
   ]
  },
  {
   "cell_type": "code",
   "execution_count": 5,
   "metadata": {},
   "outputs": [],
   "source": [
    "df.drop(['ca','thal'],axis=1,inplace=True)"
   ]
  },
  {
   "cell_type": "code",
   "execution_count": 6,
   "metadata": {
    "_uuid": "003c33eb108be0e2aa3ab1d8d7f6f690fa13ece2"
   },
   "outputs": [
    {
     "name": "stdout",
     "output_type": "stream",
     "text": [
      "<class 'pandas.core.frame.DataFrame'>\n",
      "RangeIndex: 9015 entries, 0 to 9014\n",
      "Data columns (total 13 columns):\n",
      " #   Column    Non-Null Count  Dtype  \n",
      "---  ------    --------------  -----  \n",
      " 0   age       9015 non-null   int64  \n",
      " 1   sex       9015 non-null   object \n",
      " 2   dataset   9015 non-null   object \n",
      " 3   cp        9015 non-null   object \n",
      " 4   trestbps  8543 non-null   float64\n",
      " 5   chol      8698 non-null   float64\n",
      " 6   fbs       8842 non-null   object \n",
      " 7   restecg   9005 non-null   object \n",
      " 8   thalch    8553 non-null   float64\n",
      " 9   exang     8553 non-null   object \n",
      " 10  oldpeak   8533 non-null   float64\n",
      " 11  slope     5777 non-null   object \n",
      " 12  num       9015 non-null   int64  \n",
      "dtypes: float64(4), int64(2), object(7)\n",
      "memory usage: 915.7+ KB\n"
     ]
    }
   ],
   "source": [
    "df.info()"
   ]
  },
  {
   "cell_type": "code",
   "execution_count": 7,
   "metadata": {
    "_uuid": "ffd9a189fe62e4d44b47563c62c9f03187232091"
   },
   "outputs": [
    {
     "data": {
      "text/html": [
       "<div>\n",
       "<style scoped>\n",
       "    .dataframe tbody tr th:only-of-type {\n",
       "        vertical-align: middle;\n",
       "    }\n",
       "\n",
       "    .dataframe tbody tr th {\n",
       "        vertical-align: top;\n",
       "    }\n",
       "\n",
       "    .dataframe thead th {\n",
       "        text-align: right;\n",
       "    }\n",
       "</style>\n",
       "<table border=\"1\" class=\"dataframe\">\n",
       "  <thead>\n",
       "    <tr style=\"text-align: right;\">\n",
       "      <th></th>\n",
       "      <th>age</th>\n",
       "      <th>trestbps</th>\n",
       "      <th>chol</th>\n",
       "      <th>thalch</th>\n",
       "      <th>oldpeak</th>\n",
       "      <th>num</th>\n",
       "    </tr>\n",
       "  </thead>\n",
       "  <tbody>\n",
       "    <tr>\n",
       "      <th>count</th>\n",
       "      <td>9015.000000</td>\n",
       "      <td>8543.000000</td>\n",
       "      <td>8698.000000</td>\n",
       "      <td>8553.000000</td>\n",
       "      <td>8533.000000</td>\n",
       "      <td>9015.000000</td>\n",
       "    </tr>\n",
       "    <tr>\n",
       "      <th>mean</th>\n",
       "      <td>48.038270</td>\n",
       "      <td>132.507901</td>\n",
       "      <td>240.896068</td>\n",
       "      <td>141.454110</td>\n",
       "      <td>0.892277</td>\n",
       "      <td>0.817748</td>\n",
       "    </tr>\n",
       "    <tr>\n",
       "      <th>std</th>\n",
       "      <td>12.803475</td>\n",
       "      <td>17.744470</td>\n",
       "      <td>67.743797</td>\n",
       "      <td>25.051878</td>\n",
       "      <td>1.081099</td>\n",
       "      <td>1.073800</td>\n",
       "    </tr>\n",
       "    <tr>\n",
       "      <th>min</th>\n",
       "      <td>21.000000</td>\n",
       "      <td>92.000000</td>\n",
       "      <td>0.000000</td>\n",
       "      <td>69.000000</td>\n",
       "      <td>0.000000</td>\n",
       "      <td>0.000000</td>\n",
       "    </tr>\n",
       "    <tr>\n",
       "      <th>25%</th>\n",
       "      <td>41.000000</td>\n",
       "      <td>120.000000</td>\n",
       "      <td>207.000000</td>\n",
       "      <td>122.000000</td>\n",
       "      <td>0.000000</td>\n",
       "      <td>0.000000</td>\n",
       "    </tr>\n",
       "    <tr>\n",
       "      <th>50%</th>\n",
       "      <td>50.000000</td>\n",
       "      <td>130.000000</td>\n",
       "      <td>236.000000</td>\n",
       "      <td>143.000000</td>\n",
       "      <td>0.500000</td>\n",
       "      <td>0.000000</td>\n",
       "    </tr>\n",
       "    <tr>\n",
       "      <th>75%</th>\n",
       "      <td>58.000000</td>\n",
       "      <td>140.000000</td>\n",
       "      <td>275.000000</td>\n",
       "      <td>160.000000</td>\n",
       "      <td>1.500000</td>\n",
       "      <td>1.000000</td>\n",
       "    </tr>\n",
       "    <tr>\n",
       "      <th>max</th>\n",
       "      <td>77.000000</td>\n",
       "      <td>200.000000</td>\n",
       "      <td>603.000000</td>\n",
       "      <td>202.000000</td>\n",
       "      <td>6.200000</td>\n",
       "      <td>4.000000</td>\n",
       "    </tr>\n",
       "  </tbody>\n",
       "</table>\n",
       "</div>"
      ],
      "text/plain": [
       "               age     trestbps         chol       thalch      oldpeak  \\\n",
       "count  9015.000000  8543.000000  8698.000000  8553.000000  8533.000000   \n",
       "mean     48.038270   132.507901   240.896068   141.454110     0.892277   \n",
       "std      12.803475    17.744470    67.743797    25.051878     1.081099   \n",
       "min      21.000000    92.000000     0.000000    69.000000     0.000000   \n",
       "25%      41.000000   120.000000   207.000000   122.000000     0.000000   \n",
       "50%      50.000000   130.000000   236.000000   143.000000     0.500000   \n",
       "75%      58.000000   140.000000   275.000000   160.000000     1.500000   \n",
       "max      77.000000   200.000000   603.000000   202.000000     6.200000   \n",
       "\n",
       "               num  \n",
       "count  9015.000000  \n",
       "mean      0.817748  \n",
       "std       1.073800  \n",
       "min       0.000000  \n",
       "25%       0.000000  \n",
       "50%       0.000000  \n",
       "75%       1.000000  \n",
       "max       4.000000  "
      ]
     },
     "execution_count": 7,
     "metadata": {},
     "output_type": "execute_result"
    }
   ],
   "source": [
    "df.describe()"
   ]
  },
  {
   "cell_type": "code",
   "execution_count": 8,
   "metadata": {
    "_uuid": "2c33976743ac8063e9d372640aa06137e0af8cc0"
   },
   "outputs": [
    {
     "data": {
      "text/html": [
       "<div>\n",
       "<style scoped>\n",
       "    .dataframe tbody tr th:only-of-type {\n",
       "        vertical-align: middle;\n",
       "    }\n",
       "\n",
       "    .dataframe tbody tr th {\n",
       "        vertical-align: top;\n",
       "    }\n",
       "\n",
       "    .dataframe thead th {\n",
       "        text-align: right;\n",
       "    }\n",
       "</style>\n",
       "<table border=\"1\" class=\"dataframe\">\n",
       "  <thead>\n",
       "    <tr style=\"text-align: right;\">\n",
       "      <th></th>\n",
       "      <th>age</th>\n",
       "      <th>trestbps</th>\n",
       "      <th>chol</th>\n",
       "      <th>thalch</th>\n",
       "      <th>oldpeak</th>\n",
       "      <th>num</th>\n",
       "    </tr>\n",
       "  </thead>\n",
       "  <tbody>\n",
       "    <tr>\n",
       "      <th>age</th>\n",
       "      <td>1.000000</td>\n",
       "      <td>0.104072</td>\n",
       "      <td>0.035087</td>\n",
       "      <td>-0.170532</td>\n",
       "      <td>0.153520</td>\n",
       "      <td>0.200939</td>\n",
       "    </tr>\n",
       "    <tr>\n",
       "      <th>trestbps</th>\n",
       "      <td>0.104072</td>\n",
       "      <td>1.000000</td>\n",
       "      <td>0.078395</td>\n",
       "      <td>-0.120439</td>\n",
       "      <td>0.195427</td>\n",
       "      <td>0.181901</td>\n",
       "    </tr>\n",
       "    <tr>\n",
       "      <th>chol</th>\n",
       "      <td>0.035087</td>\n",
       "      <td>0.078395</td>\n",
       "      <td>1.000000</td>\n",
       "      <td>0.002850</td>\n",
       "      <td>-0.001837</td>\n",
       "      <td>0.007634</td>\n",
       "    </tr>\n",
       "    <tr>\n",
       "      <th>thalch</th>\n",
       "      <td>-0.170532</td>\n",
       "      <td>-0.120439</td>\n",
       "      <td>0.002850</td>\n",
       "      <td>1.000000</td>\n",
       "      <td>-0.241488</td>\n",
       "      <td>-0.312993</td>\n",
       "    </tr>\n",
       "    <tr>\n",
       "      <th>oldpeak</th>\n",
       "      <td>0.153520</td>\n",
       "      <td>0.195427</td>\n",
       "      <td>-0.001837</td>\n",
       "      <td>-0.241488</td>\n",
       "      <td>1.000000</td>\n",
       "      <td>0.547321</td>\n",
       "    </tr>\n",
       "    <tr>\n",
       "      <th>num</th>\n",
       "      <td>0.200939</td>\n",
       "      <td>0.181901</td>\n",
       "      <td>0.007634</td>\n",
       "      <td>-0.312993</td>\n",
       "      <td>0.547321</td>\n",
       "      <td>1.000000</td>\n",
       "    </tr>\n",
       "  </tbody>\n",
       "</table>\n",
       "</div>"
      ],
      "text/plain": [
       "               age  trestbps      chol    thalch   oldpeak       num\n",
       "age       1.000000  0.104072  0.035087 -0.170532  0.153520  0.200939\n",
       "trestbps  0.104072  1.000000  0.078395 -0.120439  0.195427  0.181901\n",
       "chol      0.035087  0.078395  1.000000  0.002850 -0.001837  0.007634\n",
       "thalch   -0.170532 -0.120439  0.002850  1.000000 -0.241488 -0.312993\n",
       "oldpeak   0.153520  0.195427 -0.001837 -0.241488  1.000000  0.547321\n",
       "num       0.200939  0.181901  0.007634 -0.312993  0.547321  1.000000"
      ]
     },
     "execution_count": 8,
     "metadata": {},
     "output_type": "execute_result"
    }
   ],
   "source": [
    "df.corr()"
   ]
  },
  {
   "cell_type": "markdown",
   "metadata": {
    "_uuid": "5c52246aebbe38f1a27e7ded11056949ee3dc5c7"
   },
   "source": [
    "## Basic Visualization"
   ]
  },
  {
   "cell_type": "code",
   "execution_count": 9,
   "metadata": {
    "_uuid": "cee6aeff084cd9fdaab658b39881f50e4c450b45"
   },
   "outputs": [
    {
     "data": {
      "text/plain": [
       "<AxesSubplot:>"
      ]
     },
     "execution_count": 9,
     "metadata": {},
     "output_type": "execute_result"
    },
    {
     "data": {
      "image/png": "[encoded data removed]",
      "text/plain": [
       "<Figure size 720x576 with 2 Axes>"
      ]
     },
     "metadata": {},
     "output_type": "display_data"
    }
   ],
   "source": [
    "f, ax = plt.subplots(1, figsize=(10,8))\n",
    "sns.heatmap(df.corr(), annot=True, ax=ax)"
   ]
  },
  {
   "cell_type": "code",
   "execution_count": 10,
   "metadata": {
    "_uuid": "5e268c6c45ebe295a6c8a7837c4a071b7351f24e"
   },
   "outputs": [
    {
     "data": {
      "text/plain": [
       "<AxesSubplot:xlabel='sex', ylabel='count'>"
      ]
     },
     "execution_count": 10,
     "metadata": {},
     "output_type": "execute_result"
    },
    {
     "data": {
      "image/png": "[encoded data removed]",
      "text/plain": [
       "<Figure size 432x288 with 1 Axes>"
      ]
     },
     "metadata": {},
     "output_type": "display_data"
    }
   ],
   "source": [
    "sns.countplot(x=df.sex)"
   ]
  },
  {
   "cell_type": "code",
   "execution_count": 11,
   "metadata": {},
   "outputs": [
    {
     "data": {
      "text/plain": [
       "<AxesSubplot:xlabel='dataset', ylabel='count'>"
      ]
     },
     "execution_count": 11,
     "metadata": {},
     "output_type": "execute_result"
    },
    {
     "data": {
      "image/png": "[encoded data removed]",
      "text/plain": [
       "<Figure size 432x288 with 1 Axes>"
      ]
     },
     "metadata": {},
     "output_type": "display_data"
    }
   ],
   "source": [
    "sns.countplot(x=df['dataset'])"
   ]
  },
  {
   "cell_type": "code",
   "execution_count": 12,
   "metadata": {},
   "outputs": [
    {
     "data": {
      "text/plain": [
       "<AxesSubplot:xlabel='cp', ylabel='count'>"
      ]
     },
     "execution_count": 12,
     "metadata": {},
     "output_type": "execute_result"
    },
    {
     "data": {
      "image/png": "[encoded data removed]",
      "text/plain": [
       "<Figure size 432x288 with 1 Axes>"
      ]
     },
     "metadata": {},
     "output_type": "display_data"
    }
   ],
   "source": [
    "sns.countplot(x=df['cp'])"
   ]
  },
  {
   "cell_type": "code",
   "execution_count": 13,
   "metadata": {},
   "outputs": [
    {
     "data": {
      "text/plain": [
       "<AxesSubplot:xlabel='fbs', ylabel='count'>"
      ]
     },
     "execution_count": 13,
     "metadata": {},
     "output_type": "execute_result"
    },
    {
     "data": {
      "image/png": "[encoded data removed]",
      "text/plain": [
       "<Figure size 432x288 with 1 Axes>"
      ]
     },
     "metadata": {},
     "output_type": "display_data"
    }
   ],
   "source": [
    "sns.countplot(x=df['fbs'])"
   ]
  },
  {
   "cell_type": "code",
   "execution_count": 14,
   "metadata": {},
   "outputs": [
    {
     "data": {
      "text/plain": [
       "<AxesSubplot:xlabel='restecg', ylabel='count'>"
      ]
     },
     "execution_count": 14,
     "metadata": {},
     "output_type": "execute_result"
    },
    {
     "data": {
      "image/png": "[encoded data removed]",
      "text/plain": [
       "<Figure size 432x288 with 1 Axes>"
      ]
     },
     "metadata": {},
     "output_type": "display_data"
    }
   ],
   "source": [
    "sns.countplot(x=df['restecg'])"
   ]
  },
  {
   "cell_type": "code",
   "execution_count": 15,
   "metadata": {},
   "outputs": [
    {
     "data": {
      "text/plain": [
       "normal              5351\n",
       "lv hypertrophy      2102\n",
       "st-t abnormality    1552\n",
       "Name: restecg, dtype: int64"
      ]
     },
     "execution_count": 15,
     "metadata": {},
     "output_type": "execute_result"
    }
   ],
   "source": [
    "df['restecg'].value_counts()"
   ]
  },
  {
   "cell_type": "code",
   "execution_count": 16,
   "metadata": {},
   "outputs": [
    {
     "data": {
      "text/plain": [
       "<AxesSubplot:xlabel='exang', ylabel='count'>"
      ]
     },
     "execution_count": 16,
     "metadata": {},
     "output_type": "execute_result"
    },
    {
     "data": {
      "image/png": "[encoded data removed]",
      "text/plain": [
       "<Figure size 432x288 with 1 Axes>"
      ]
     },
     "metadata": {},
     "output_type": "display_data"
    }
   ],
   "source": [
    "sns.countplot(x=df['exang'])"
   ]
  },
  {
   "cell_type": "code",
   "execution_count": 17,
   "metadata": {},
   "outputs": [
    {
     "data": {
      "text/plain": [
       "<AxesSubplot:xlabel='slope', ylabel='count'>"
      ]
     },
     "execution_count": 17,
     "metadata": {},
     "output_type": "execute_result"
    },
    {
     "data": {
      "image/png": "[encoded data removed]",
      "text/plain": [
       "<Figure size 432x288 with 1 Axes>"
      ]
     },
     "metadata": {},
     "output_type": "display_data"
    }
   ],
   "source": [
    "sns.countplot(x=df['slope'])"
   ]
  },
  {
   "cell_type": "code",
   "execution_count": 18,
   "metadata": {},
   "outputs": [
    {
     "data": {
      "text/plain": [
       "<AxesSubplot:xlabel='num', ylabel='count'>"
      ]
     },
     "execution_count": 18,
     "metadata": {},
     "output_type": "execute_result"
    },
    {
     "data": {
      "image/png": "[encoded data removed]",
      "text/plain": [
       "<Figure size 432x288 with 1 Axes>"
      ]
     },
     "metadata": {},
     "output_type": "display_data"
    }
   ],
   "source": [
    "sns.countplot(x=df['num'])"
   ]
  },
  {
   "cell_type": "code",
   "execution_count": 19,
   "metadata": {},
   "outputs": [
    {
     "data": {
      "text/plain": [
       "['age',\n",
       " 'sex',\n",
       " 'dataset',\n",
       " 'cp',\n",
       " 'trestbps',\n",
       " 'chol',\n",
       " 'fbs',\n",
       " 'restecg',\n",
       " 'thalch',\n",
       " 'exang',\n",
       " 'oldpeak',\n",
       " 'slope',\n",
       " 'num']"
      ]
     },
     "execution_count": 19,
     "metadata": {},
     "output_type": "execute_result"
    }
   ],
   "source": [
    "list(df.columns)"
   ]
  },
  {
   "cell_type": "markdown",
   "metadata": {},
   "source": [
    "# Machine Learning"
   ]
  },
  {
   "cell_type": "code",
   "execution_count": 20,
   "metadata": {},
   "outputs": [],
   "source": [
    "# Check for missing data\n",
    "df.dropna(inplace = True)"
   ]
  },
  {
   "cell_type": "code",
   "execution_count": 21,
   "metadata": {},
   "outputs": [
    {
     "name": "stdout",
     "output_type": "stream",
     "text": [
      "<class 'pandas.core.frame.DataFrame'>\n",
      "Int64Index: 5577 entries, 1 to 9013\n",
      "Data columns (total 13 columns):\n",
      " #   Column    Non-Null Count  Dtype  \n",
      "---  ------    --------------  -----  \n",
      " 0   age       5577 non-null   int64  \n",
      " 1   sex       5577 non-null   object \n",
      " 2   dataset   5577 non-null   object \n",
      " 3   cp        5577 non-null   object \n",
      " 4   trestbps  5577 non-null   float64\n",
      " 5   chol      5577 non-null   float64\n",
      " 6   fbs       5577 non-null   object \n",
      " 7   restecg   5577 non-null   object \n",
      " 8   thalch    5577 non-null   float64\n",
      " 9   exang     5577 non-null   object \n",
      " 10  oldpeak   5577 non-null   float64\n",
      " 11  slope     5577 non-null   object \n",
      " 12  num       5577 non-null   int64  \n",
      "dtypes: float64(4), int64(2), object(7)\n",
      "memory usage: 610.0+ KB\n"
     ]
    }
   ],
   "source": [
    "df.info()"
   ]
  },
  {
   "cell_type": "code",
   "execution_count": 22,
   "metadata": {},
   "outputs": [
    {
     "data": {
      "text/plain": [
       "array([2, 1, 0])"
      ]
     },
     "execution_count": 22,
     "metadata": {},
     "output_type": "execute_result"
    }
   ],
   "source": [
    "from sklearn import preprocessing\n",
    "  \n",
    "# label_encoder object knows how to understand word labels.\n",
    "label_encoder = preprocessing.LabelEncoder()\n",
    "  \n",
    "# Encode labels in column 'species'.\n",
    "df['sex']= label_encoder.fit_transform(df['sex'])\n",
    "df['dataset']= label_encoder.fit_transform(df['dataset'])\n",
    "df['cp']= label_encoder.fit_transform(df['cp'])\n",
    "df['fbs']= label_encoder.fit_transform(df['fbs'])\n",
    "df['restecg']= label_encoder.fit_transform(df['restecg'])\n",
    "df['exang']= label_encoder.fit_transform(df['exang'])\n",
    "df['slope']= label_encoder.fit_transform(df['slope'])\n",
    "\n",
    "df['sex'].unique()\n",
    "df['dataset'].unique()\n",
    "df['cp'].unique()\n",
    "df['fbs'].unique()\n",
    "df['restecg'].unique()\n",
    "df['exang'].unique()\n",
    "df['slope'].unique()"
   ]
  },
  {
   "cell_type": "code",
   "execution_count": 23,
   "metadata": {},
   "outputs": [
    {
     "data": {
      "text/plain": [
       "(5577, 13)"
      ]
     },
     "execution_count": 23,
     "metadata": {},
     "output_type": "execute_result"
    }
   ],
   "source": [
    "df.shape"
   ]
  },
  {
   "cell_type": "code",
   "execution_count": 24,
   "metadata": {},
   "outputs": [],
   "source": [
    "X = df.iloc[:, 0:12]\n",
    "y = df.iloc[:,12]"
   ]
  },
  {
   "cell_type": "code",
   "execution_count": 25,
   "metadata": {},
   "outputs": [
    {
     "data": {
      "text/html": [
       "<div>\n",
       "<style scoped>\n",
       "    .dataframe tbody tr th:only-of-type {\n",
       "        vertical-align: middle;\n",
       "    }\n",
       "\n",
       "    .dataframe tbody tr th {\n",
       "        vertical-align: top;\n",
       "    }\n",
       "\n",
       "    .dataframe thead th {\n",
       "        text-align: right;\n",
       "    }\n",
       "</style>\n",
       "<table border=\"1\" class=\"dataframe\">\n",
       "  <thead>\n",
       "    <tr style=\"text-align: right;\">\n",
       "      <th></th>\n",
       "      <th>age</th>\n",
       "      <th>sex</th>\n",
       "      <th>dataset</th>\n",
       "      <th>cp</th>\n",
       "      <th>trestbps</th>\n",
       "      <th>chol</th>\n",
       "      <th>fbs</th>\n",
       "      <th>restecg</th>\n",
       "      <th>thalch</th>\n",
       "      <th>exang</th>\n",
       "      <th>oldpeak</th>\n",
       "      <th>slope</th>\n",
       "    </tr>\n",
       "  </thead>\n",
       "  <tbody>\n",
       "    <tr>\n",
       "      <th>1</th>\n",
       "      <td>29</td>\n",
       "      <td>1</td>\n",
       "      <td>0</td>\n",
       "      <td>1</td>\n",
       "      <td>130.0</td>\n",
       "      <td>204.0</td>\n",
       "      <td>0</td>\n",
       "      <td>0</td>\n",
       "      <td>202.0</td>\n",
       "      <td>0</td>\n",
       "      <td>0.0</td>\n",
       "      <td>2</td>\n",
       "    </tr>\n",
       "    <tr>\n",
       "      <th>6</th>\n",
       "      <td>31</td>\n",
       "      <td>1</td>\n",
       "      <td>1</td>\n",
       "      <td>0</td>\n",
       "      <td>120.0</td>\n",
       "      <td>270.0</td>\n",
       "      <td>0</td>\n",
       "      <td>1</td>\n",
       "      <td>153.0</td>\n",
       "      <td>1</td>\n",
       "      <td>1.5</td>\n",
       "      <td>1</td>\n",
       "    </tr>\n",
       "    <tr>\n",
       "      <th>11</th>\n",
       "      <td>33</td>\n",
       "      <td>0</td>\n",
       "      <td>1</td>\n",
       "      <td>0</td>\n",
       "      <td>100.0</td>\n",
       "      <td>246.0</td>\n",
       "      <td>0</td>\n",
       "      <td>1</td>\n",
       "      <td>150.0</td>\n",
       "      <td>1</td>\n",
       "      <td>1.0</td>\n",
       "      <td>1</td>\n",
       "    </tr>\n",
       "    <tr>\n",
       "      <th>15</th>\n",
       "      <td>34</td>\n",
       "      <td>1</td>\n",
       "      <td>0</td>\n",
       "      <td>3</td>\n",
       "      <td>118.0</td>\n",
       "      <td>182.0</td>\n",
       "      <td>0</td>\n",
       "      <td>0</td>\n",
       "      <td>174.0</td>\n",
       "      <td>0</td>\n",
       "      <td>0.0</td>\n",
       "      <td>2</td>\n",
       "    </tr>\n",
       "    <tr>\n",
       "      <th>16</th>\n",
       "      <td>34</td>\n",
       "      <td>0</td>\n",
       "      <td>0</td>\n",
       "      <td>1</td>\n",
       "      <td>118.0</td>\n",
       "      <td>210.0</td>\n",
       "      <td>0</td>\n",
       "      <td>1</td>\n",
       "      <td>192.0</td>\n",
       "      <td>0</td>\n",
       "      <td>0.7</td>\n",
       "      <td>2</td>\n",
       "    </tr>\n",
       "    <tr>\n",
       "      <th>...</th>\n",
       "      <td>...</td>\n",
       "      <td>...</td>\n",
       "      <td>...</td>\n",
       "      <td>...</td>\n",
       "      <td>...</td>\n",
       "      <td>...</td>\n",
       "      <td>...</td>\n",
       "      <td>...</td>\n",
       "      <td>...</td>\n",
       "      <td>...</td>\n",
       "      <td>...</td>\n",
       "      <td>...</td>\n",
       "    </tr>\n",
       "    <tr>\n",
       "      <th>9006</th>\n",
       "      <td>43</td>\n",
       "      <td>1</td>\n",
       "      <td>1</td>\n",
       "      <td>0</td>\n",
       "      <td>150.0</td>\n",
       "      <td>247.0</td>\n",
       "      <td>0</td>\n",
       "      <td>1</td>\n",
       "      <td>130.0</td>\n",
       "      <td>1</td>\n",
       "      <td>2.0</td>\n",
       "      <td>1</td>\n",
       "    </tr>\n",
       "    <tr>\n",
       "      <th>9009</th>\n",
       "      <td>43</td>\n",
       "      <td>1</td>\n",
       "      <td>1</td>\n",
       "      <td>0</td>\n",
       "      <td>140.0</td>\n",
       "      <td>288.0</td>\n",
       "      <td>0</td>\n",
       "      <td>1</td>\n",
       "      <td>135.0</td>\n",
       "      <td>1</td>\n",
       "      <td>2.0</td>\n",
       "      <td>1</td>\n",
       "    </tr>\n",
       "    <tr>\n",
       "      <th>9011</th>\n",
       "      <td>43</td>\n",
       "      <td>1</td>\n",
       "      <td>0</td>\n",
       "      <td>0</td>\n",
       "      <td>115.0</td>\n",
       "      <td>303.0</td>\n",
       "      <td>0</td>\n",
       "      <td>1</td>\n",
       "      <td>181.0</td>\n",
       "      <td>0</td>\n",
       "      <td>1.2</td>\n",
       "      <td>1</td>\n",
       "    </tr>\n",
       "    <tr>\n",
       "      <th>9012</th>\n",
       "      <td>43</td>\n",
       "      <td>1</td>\n",
       "      <td>0</td>\n",
       "      <td>2</td>\n",
       "      <td>130.0</td>\n",
       "      <td>315.0</td>\n",
       "      <td>0</td>\n",
       "      <td>1</td>\n",
       "      <td>162.0</td>\n",
       "      <td>0</td>\n",
       "      <td>1.9</td>\n",
       "      <td>2</td>\n",
       "    </tr>\n",
       "    <tr>\n",
       "      <th>9013</th>\n",
       "      <td>43</td>\n",
       "      <td>0</td>\n",
       "      <td>0</td>\n",
       "      <td>0</td>\n",
       "      <td>132.0</td>\n",
       "      <td>341.0</td>\n",
       "      <td>1</td>\n",
       "      <td>0</td>\n",
       "      <td>136.0</td>\n",
       "      <td>1</td>\n",
       "      <td>3.0</td>\n",
       "      <td>1</td>\n",
       "    </tr>\n",
       "  </tbody>\n",
       "</table>\n",
       "<p>5577 rows × 12 columns</p>\n",
       "</div>"
      ],
      "text/plain": [
       "      age  sex  dataset  cp  trestbps   chol  fbs  restecg  thalch  exang  \\\n",
       "1      29    1        0   1     130.0  204.0    0        0   202.0      0   \n",
       "6      31    1        1   0     120.0  270.0    0        1   153.0      1   \n",
       "11     33    0        1   0     100.0  246.0    0        1   150.0      1   \n",
       "15     34    1        0   3     118.0  182.0    0        0   174.0      0   \n",
       "16     34    0        0   1     118.0  210.0    0        1   192.0      0   \n",
       "...   ...  ...      ...  ..       ...    ...  ...      ...     ...    ...   \n",
       "9006   43    1        1   0     150.0  247.0    0        1   130.0      1   \n",
       "9009   43    1        1   0     140.0  288.0    0        1   135.0      1   \n",
       "9011   43    1        0   0     115.0  303.0    0        1   181.0      0   \n",
       "9012   43    1        0   2     130.0  315.0    0        1   162.0      0   \n",
       "9013   43    0        0   0     132.0  341.0    1        0   136.0      1   \n",
       "\n",
       "      oldpeak  slope  \n",
       "1         0.0      2  \n",
       "6         1.5      1  \n",
       "11        1.0      1  \n",
       "15        0.0      2  \n",
       "16        0.7      2  \n",
       "...       ...    ...  \n",
       "9006      2.0      1  \n",
       "9009      2.0      1  \n",
       "9011      1.2      1  \n",
       "9012      1.9      2  \n",
       "9013      3.0      1  \n",
       "\n",
       "[5577 rows x 12 columns]"
      ]
     },
     "execution_count": 25,
     "metadata": {},
     "output_type": "execute_result"
    }
   ],
   "source": [
    "X"
   ]
  },
  {
   "cell_type": "code",
   "execution_count": 26,
   "metadata": {},
   "outputs": [
    {
     "data": {
      "text/plain": [
       "1       0\n",
       "6       1\n",
       "11      1\n",
       "15      0\n",
       "16      0\n",
       "       ..\n",
       "9006    1\n",
       "9009    1\n",
       "9011    0\n",
       "9012    0\n",
       "9013    2\n",
       "Name: num, Length: 5577, dtype: int64"
      ]
     },
     "execution_count": 26,
     "metadata": {},
     "output_type": "execute_result"
    }
   ],
   "source": [
    "y"
   ]
  },
  {
   "cell_type": "code",
   "execution_count": 27,
   "metadata": {},
   "outputs": [],
   "source": [
    "from sklearn.model_selection import cross_val_score\n",
    "from sklearn.metrics import classification_report\n",
    "from sklearn.metrics import confusion_matrix\n",
    "from sklearn.metrics import accuracy_score"
   ]
  },
  {
   "cell_type": "markdown",
   "metadata": {},
   "source": [
    "# Support Vctor Machine"
   ]
  },
  {
   "cell_type": "code",
   "execution_count": 28,
   "metadata": {},
   "outputs": [
    {
     "name": "stdout",
     "output_type": "stream",
     "text": [
      "*Accuracy score for SVM:  53.05719921104537 \n",
      "\n",
      "*Confusion Matrix for SVM: \n",
      "[[1977  446    0    0    0]\n",
      " [ 766  982    0    0    0]\n",
      " [ 282  351    0    0    0]\n",
      " [ 211  373    0    0    0]\n",
      " [ 107   82    0    0    0]]\n"
     ]
    }
   ],
   "source": [
    "from sklearn.svm import SVC\n",
    "SVM = SVC()\n",
    "SVM.fit(X, y)\n",
    "predictions = SVM.predict(X)\n",
    "val1 = (accuracy_score(y, predictions)*100)\n",
    "print(\"*Accuracy score for SVM: \", val1, \"\\n\")\n",
    "print(\"*Confusion Matrix for SVM: \")\n",
    "print(confusion_matrix(y, predictions))"
   ]
  },
  {
   "cell_type": "code",
   "execution_count": 29,
   "metadata": {},
   "outputs": [
    {
     "name": "stdout",
     "output_type": "stream",
     "text": [
      "*Classification Report for SVM: \n",
      "              precision    recall  f1-score   support\n",
      "\n",
      "           0       0.59      0.82      0.69      2423\n",
      "           1       0.44      0.56      0.49      1748\n",
      "           2       0.00      0.00      0.00       633\n",
      "           3       0.00      0.00      0.00       584\n",
      "           4       0.00      0.00      0.00       189\n",
      "\n",
      "    accuracy                           0.53      5577\n",
      "   macro avg       0.21      0.28      0.24      5577\n",
      "weighted avg       0.39      0.53      0.45      5577\n",
      "\n"
     ]
    },
    {
     "name": "stderr",
     "output_type": "stream",
     "text": [
      "C:\\Users\\manik\\anaconda3\\lib\\site-packages\\sklearn\\metrics\\_classification.py:1221: UndefinedMetricWarning: Precision and F-score are ill-defined and being set to 0.0 in labels with no predicted samples. Use `zero_division` parameter to control this behavior.\n",
      "  _warn_prf(average, modifier, msg_start, len(result))\n"
     ]
    }
   ],
   "source": [
    "print(\"*Classification Report for SVM: \")\n",
    "print(classification_report(y, predictions))"
   ]
  },
  {
   "cell_type": "markdown",
   "metadata": {},
   "source": [
    "# RAndom Forest"
   ]
  },
  {
   "cell_type": "code",
   "execution_count": 30,
   "metadata": {},
   "outputs": [
    {
     "name": "stdout",
     "output_type": "stream",
     "text": [
      "*Accuracy score for RF:  100.0 \n",
      "\n",
      "*Confusion Matrix for RF: \n",
      "[[2423    0    0    0    0]\n",
      " [   0 1748    0    0    0]\n",
      " [   0    0  633    0    0]\n",
      " [   0    0    0  584    0]\n",
      " [   0    0    0    0  189]]\n"
     ]
    }
   ],
   "source": [
    "from sklearn.ensemble import RandomForestClassifier\n",
    "RF = RandomForestClassifier()\n",
    "RF.fit(X, y)\n",
    "predictions = RF.predict(X)\n",
    "val2 = (accuracy_score(y, predictions)*100)\n",
    "print(\"*Accuracy score for RF: \", val2, \"\\n\")\n",
    "print(\"*Confusion Matrix for RF: \")\n",
    "print(confusion_matrix(y, predictions))"
   ]
  },
  {
   "cell_type": "code",
   "execution_count": 31,
   "metadata": {},
   "outputs": [
    {
     "name": "stdout",
     "output_type": "stream",
     "text": [
      "*Classification Report for RF: \n",
      "              precision    recall  f1-score   support\n",
      "\n",
      "           0       1.00      1.00      1.00      2423\n",
      "           1       1.00      1.00      1.00      1748\n",
      "           2       1.00      1.00      1.00       633\n",
      "           3       1.00      1.00      1.00       584\n",
      "           4       1.00      1.00      1.00       189\n",
      "\n",
      "    accuracy                           1.00      5577\n",
      "   macro avg       1.00      1.00      1.00      5577\n",
      "weighted avg       1.00      1.00      1.00      5577\n",
      "\n"
     ]
    }
   ],
   "source": [
    "print(\"*Classification Report for RF: \")\n",
    "print(classification_report(y, predictions))"
   ]
  },
  {
   "cell_type": "markdown",
   "metadata": {},
   "source": [
    "# Decison Tree"
   ]
  },
  {
   "cell_type": "code",
   "execution_count": 32,
   "metadata": {},
   "outputs": [
    {
     "name": "stdout",
     "output_type": "stream",
     "text": [
      "*Accuracy score for DT:  59.54814416352878 \n",
      "\n",
      "*Confusion Matrix for DT: \n",
      "[[2094  198  131    0    0]\n",
      " [ 613  885  250    0    0]\n",
      " [ 155  168  310    0    0]\n",
      " [ 120  153  279   32    0]\n",
      " [  40   40  109    0    0]]\n"
     ]
    }
   ],
   "source": [
    "from sklearn.tree import DecisionTreeClassifier\n",
    "DT = DecisionTreeClassifier(max_depth =3, random_state = 42)\n",
    "DT.fit(X, y)\n",
    "predictions = DT.predict(X)\n",
    "val3 = (accuracy_score(y, predictions)*100)\n",
    "print(\"*Accuracy score for DT: \", val3, \"\\n\")\n",
    "print(\"*Confusion Matrix for DT: \")\n",
    "print(confusion_matrix(y, predictions))"
   ]
  },
  {
   "cell_type": "code",
   "execution_count": 33,
   "metadata": {},
   "outputs": [
    {
     "name": "stdout",
     "output_type": "stream",
     "text": [
      "*Classification Report for DT: \n",
      "              precision    recall  f1-score   support\n",
      "\n",
      "           0       0.69      0.86      0.77      2423\n",
      "           1       0.61      0.51      0.55      1748\n",
      "           2       0.29      0.49      0.36       633\n",
      "           3       1.00      0.05      0.10       584\n",
      "           4       0.00      0.00      0.00       189\n",
      "\n",
      "    accuracy                           0.60      5577\n",
      "   macro avg       0.52      0.38      0.36      5577\n",
      "weighted avg       0.63      0.60      0.56      5577\n",
      "\n"
     ]
    },
    {
     "name": "stderr",
     "output_type": "stream",
     "text": [
      "C:\\Users\\manik\\anaconda3\\lib\\site-packages\\sklearn\\metrics\\_classification.py:1221: UndefinedMetricWarning: Precision and F-score are ill-defined and being set to 0.0 in labels with no predicted samples. Use `zero_division` parameter to control this behavior.\n",
      "  _warn_prf(average, modifier, msg_start, len(result))\n"
     ]
    }
   ],
   "source": [
    "print(\"*Classification Report for DT: \")\n",
    "print(classification_report(y, predictions))"
   ]
  },
  {
   "cell_type": "markdown",
   "metadata": {},
   "source": [
    "# Logistic Regression"
   ]
  },
  {
   "cell_type": "code",
   "execution_count": 34,
   "metadata": {},
   "outputs": [
    {
     "name": "stdout",
     "output_type": "stream",
     "text": [
      "*Accuracy score for LR:  60.15779092702169 \n",
      "\n",
      "*Confusion Matrix for LR: \n",
      "[[2090  313    0   20    0]\n",
      " [ 498 1245    0    5    0]\n",
      " [ 154  452    0   27    0]\n",
      " [ 149  415    0   20    0]\n",
      " [  40  139    0   10    0]]\n"
     ]
    },
    {
     "name": "stderr",
     "output_type": "stream",
     "text": [
      "C:\\Users\\manik\\anaconda3\\lib\\site-packages\\sklearn\\linear_model\\_logistic.py:762: ConvergenceWarning: lbfgs failed to converge (status=1):\n",
      "STOP: TOTAL NO. of ITERATIONS REACHED LIMIT.\n",
      "\n",
      "Increase the number of iterations (max_iter) or scale the data as shown in:\n",
      "    https://scikit-learn.org/stable/modules/preprocessing.html\n",
      "Please also refer to the documentation for alternative solver options:\n",
      "    https://scikit-learn.org/stable/modules/linear_model.html#logistic-regression\n",
      "  n_iter_i = _check_optimize_result(\n"
     ]
    }
   ],
   "source": [
    "from sklearn.linear_model import LogisticRegression\n",
    "LR = LogisticRegression(random_state=0)\n",
    "LR.fit(X, y)\n",
    "predictions = LR.predict(X)\n",
    "val4 = (accuracy_score(y, predictions)*100)\n",
    "print(\"*Accuracy score for LR: \", val4, \"\\n\")\n",
    "print(\"*Confusion Matrix for LR: \")\n",
    "print(confusion_matrix(y, predictions))"
   ]
  },
  {
   "cell_type": "code",
   "execution_count": 35,
   "metadata": {},
   "outputs": [
    {
     "name": "stdout",
     "output_type": "stream",
     "text": [
      "*Classification Report for LR: \n",
      "              precision    recall  f1-score   support\n",
      "\n",
      "           0       0.71      0.86      0.78      2423\n",
      "           1       0.49      0.71      0.58      1748\n",
      "           2       0.00      0.00      0.00       633\n",
      "           3       0.24      0.03      0.06       584\n",
      "           4       0.00      0.00      0.00       189\n",
      "\n",
      "    accuracy                           0.60      5577\n",
      "   macro avg       0.29      0.32      0.28      5577\n",
      "weighted avg       0.49      0.60      0.53      5577\n",
      "\n"
     ]
    },
    {
     "name": "stderr",
     "output_type": "stream",
     "text": [
      "C:\\Users\\manik\\anaconda3\\lib\\site-packages\\sklearn\\metrics\\_classification.py:1221: UndefinedMetricWarning: Precision and F-score are ill-defined and being set to 0.0 in labels with no predicted samples. Use `zero_division` parameter to control this behavior.\n",
      "  _warn_prf(average, modifier, msg_start, len(result))\n"
     ]
    }
   ],
   "source": [
    "print(\"*Classification Report for LR: \")\n",
    "print(classification_report(y, predictions))"
   ]
  },
  {
   "cell_type": "markdown",
   "metadata": {},
   "source": [
    "# KNN"
   ]
  },
  {
   "cell_type": "code",
   "execution_count": 36,
   "metadata": {},
   "outputs": [
    {
     "name": "stdout",
     "output_type": "stream",
     "text": [
      "*Accuracy score for KNN:  100.0 \n",
      "\n",
      "*Confusion Matrix for KNN: \n",
      "[[2423    0    0    0    0]\n",
      " [   0 1748    0    0    0]\n",
      " [   0    0  633    0    0]\n",
      " [   0    0    0  584    0]\n",
      " [   0    0    0    0  189]]\n"
     ]
    }
   ],
   "source": [
    "from sklearn.neighbors import KNeighborsClassifier\n",
    "KNN = KNeighborsClassifier(n_neighbors=3)\n",
    "KNN.fit(X, y)\n",
    "predictions = KNN.predict(X)\n",
    "val6 = (accuracy_score(y, predictions)*100)\n",
    "print(\"*Accuracy score for KNN: \", val6, \"\\n\")\n",
    "print(\"*Confusion Matrix for KNN: \")\n",
    "print(confusion_matrix(y, predictions))"
   ]
  },
  {
   "cell_type": "code",
   "execution_count": 37,
   "metadata": {},
   "outputs": [
    {
     "name": "stdout",
     "output_type": "stream",
     "text": [
      "*Classification Report for KNN: \n",
      "              precision    recall  f1-score   support\n",
      "\n",
      "           0       1.00      1.00      1.00      2423\n",
      "           1       1.00      1.00      1.00      1748\n",
      "           2       1.00      1.00      1.00       633\n",
      "           3       1.00      1.00      1.00       584\n",
      "           4       1.00      1.00      1.00       189\n",
      "\n",
      "    accuracy                           1.00      5577\n",
      "   macro avg       1.00      1.00      1.00      5577\n",
      "weighted avg       1.00      1.00      1.00      5577\n",
      "\n"
     ]
    }
   ],
   "source": [
    "print(\"*Classification Report for KNN: \")\n",
    "print(classification_report(y, predictions))"
   ]
  },
  {
   "cell_type": "markdown",
   "metadata": {},
   "source": [
    "# XGBoost"
   ]
  },
  {
   "cell_type": "code",
   "execution_count": 38,
   "metadata": {},
   "outputs": [
    {
     "name": "stderr",
     "output_type": "stream",
     "text": [
      "C:\\Users\\manik\\anaconda3\\lib\\site-packages\\xgboost\\sklearn.py:1224: UserWarning: The use of label encoder in XGBClassifier is deprecated and will be removed in a future release. To remove this warning, do the following: 1) Pass option use_label_encoder=False when constructing XGBClassifier object; and 2) Encode your labels (y) as integers starting with 0, i.e. 0, 1, 2, ..., [num_class - 1].\n",
      "  warnings.warn(label_encoder_deprecation_msg, UserWarning)\n"
     ]
    },
    {
     "name": "stdout",
     "output_type": "stream",
     "text": [
      "[19:04:21] WARNING: C:/Users/Administrator/workspace/xgboost-win64_release_1.5.1/src/learner.cc:1115: Starting in XGBoost 1.3.0, the default evaluation metric used with the objective 'multi:softprob' was changed from 'merror' to 'mlogloss'. Explicitly set eval_metric if you'd like to restore the old behavior.\n",
      "*Accuracy score for XGB:  100.0 \n",
      "\n"
     ]
    }
   ],
   "source": [
    "import xgboost as xgb\n",
    "xgb_model = xgb.XGBClassifier(objective=\"multi:softprob\", random_state=42)\n",
    "xgb_model.fit(X, y)\n",
    "\n",
    "y_pred = xgb_model.predict(X)\n",
    "\n",
    "val7 = (accuracy_score(y, y_pred)*100)\n",
    "print(\"*Accuracy score for XGB: \", val7, \"\\n\")"
   ]
  },
  {
   "cell_type": "code",
   "execution_count": 39,
   "metadata": {},
   "outputs": [
    {
     "name": "stdout",
     "output_type": "stream",
     "text": [
      "*Classification Report for NB: \n",
      "              precision    recall  f1-score   support\n",
      "\n",
      "           0       1.00      1.00      1.00      2423\n",
      "           1       1.00      1.00      1.00      1748\n",
      "           2       1.00      1.00      1.00       633\n",
      "           3       1.00      1.00      1.00       584\n",
      "           4       1.00      1.00      1.00       189\n",
      "\n",
      "    accuracy                           1.00      5577\n",
      "   macro avg       1.00      1.00      1.00      5577\n",
      "weighted avg       1.00      1.00      1.00      5577\n",
      "\n"
     ]
    }
   ],
   "source": [
    "print(\"*Classification Report for NB: \")\n",
    "print(classification_report(y, predictions))"
   ]
  },
  {
   "cell_type": "markdown",
   "metadata": {},
   "source": [
    "# Naive Bayes"
   ]
  },
  {
   "cell_type": "code",
   "execution_count": 40,
   "metadata": {},
   "outputs": [
    {
     "name": "stdout",
     "output_type": "stream",
     "text": [
      "*Accuracy score for NB:  60.83916083916085 \n",
      "\n",
      "*Confusion Matrix for NB: \n",
      "[[2001  300   47   41   34]\n",
      " [ 434 1058  124  111   21]\n",
      " [ 133  232  148  100   20]\n",
      " [ 110  200   85  172   17]\n",
      " [  36   41   17   81   14]]\n"
     ]
    }
   ],
   "source": [
    "from sklearn.naive_bayes import GaussianNB\n",
    "NB = GaussianNB()\n",
    "NB.fit(X, y)\n",
    "predictions = NB.predict(X)\n",
    "val8 = (accuracy_score(y, predictions)*100)\n",
    "print(\"*Accuracy score for NB: \", val8, \"\\n\")\n",
    "print(\"*Confusion Matrix for NB: \")\n",
    "print(confusion_matrix(y, predictions))"
   ]
  },
  {
   "cell_type": "code",
   "execution_count": 41,
   "metadata": {},
   "outputs": [
    {
     "name": "stdout",
     "output_type": "stream",
     "text": [
      "*Classification Report for NB: \n",
      "              precision    recall  f1-score   support\n",
      "\n",
      "           0       0.74      0.83      0.78      2423\n",
      "           1       0.58      0.61      0.59      1748\n",
      "           2       0.35      0.23      0.28       633\n",
      "           3       0.34      0.29      0.32       584\n",
      "           4       0.13      0.07      0.09       189\n",
      "\n",
      "    accuracy                           0.61      5577\n",
      "   macro avg       0.43      0.41      0.41      5577\n",
      "weighted avg       0.58      0.61      0.59      5577\n",
      "\n"
     ]
    }
   ],
   "source": [
    "print(\"*Classification Report for NB: \")\n",
    "print(classification_report(y, predictions))"
   ]
  },
  {
   "cell_type": "markdown",
   "metadata": {},
   "source": [
    "# Voting Classifier"
   ]
  },
  {
   "cell_type": "code",
   "execution_count": 42,
   "metadata": {},
   "outputs": [
    {
     "name": "stdout",
     "output_type": "stream",
     "text": [
      "*Confusion Matrix for Voting Classifier: \n",
      "[[2423    0    0    0    0]\n",
      " [   0 1748    0    0    0]\n",
      " [   0    0  633    0    0]\n",
      " [   0    0    0  584    0]\n",
      " [   0    0    0    0  189]]\n"
     ]
    }
   ],
   "source": [
    "from sklearn.svm import SVC\n",
    "from sklearn.tree import DecisionTreeClassifier\n",
    "from sklearn.ensemble import RandomForestClassifier, VotingClassifier\n",
    "clf1 = SVC(gamma='auto')\n",
    "clf2 = RandomForestClassifier(n_estimators=50, random_state=1)\n",
    "clf3 = DecisionTreeClassifier()\n",
    "vot = VotingClassifier(estimators=[('lr', clf1), ('rf', clf2), ('dt', clf3)], voting='hard')\n",
    "vot.fit(X, y)\n",
    "predictions = vot.predict(X)\n",
    "print(\"*Confusion Matrix for Voting Classifier: \")\n",
    "print(confusion_matrix(y, predictions))"
   ]
  },
  {
   "cell_type": "code",
   "execution_count": 43,
   "metadata": {},
   "outputs": [
    {
     "name": "stdout",
     "output_type": "stream",
     "text": [
      "*Accuracy score for Voting:  100.0 \n",
      "\n"
     ]
    }
   ],
   "source": [
    "val9 = (accuracy_score(y, predictions)*100)\n",
    "print(\"*Accuracy score for Voting: \", val9, \"\\n\")"
   ]
  },
  {
   "cell_type": "code",
   "execution_count": 44,
   "metadata": {},
   "outputs": [
    {
     "name": "stdout",
     "output_type": "stream",
     "text": [
      "*Classification Report for Voting Classifier: \n",
      "              precision    recall  f1-score   support\n",
      "\n",
      "           0       1.00      1.00      1.00      2423\n",
      "           1       1.00      1.00      1.00      1748\n",
      "           2       1.00      1.00      1.00       633\n",
      "           3       1.00      1.00      1.00       584\n",
      "           4       1.00      1.00      1.00       189\n",
      "\n",
      "    accuracy                           1.00      5577\n",
      "   macro avg       1.00      1.00      1.00      5577\n",
      "weighted avg       1.00      1.00      1.00      5577\n",
      "\n"
     ]
    }
   ],
   "source": [
    "print(\"*Classification Report for Voting Classifier: \")\n",
    "print(classification_report(y, predictions))"
   ]
  },
  {
   "cell_type": "markdown",
   "metadata": {},
   "source": [
    "# GBDT"
   ]
  },
  {
   "cell_type": "code",
   "execution_count": 45,
   "metadata": {},
   "outputs": [
    {
     "name": "stdout",
     "output_type": "stream",
     "text": [
      "*Confusion Matrix for GBDT: \n",
      "[[2105  179   82   57    0]\n",
      " [ 743  700  125  162   18]\n",
      " [ 160  187  187   40   59]\n",
      " [ 138  130   82  186   48]\n",
      " [   0   10   30   22  127]]\n",
      "*Accuracy score for GBDT:  59.26125156894388 \n",
      "\n",
      "*Classification Report for GBDT: \n",
      "              precision    recall  f1-score   support\n",
      "\n",
      "           0       0.67      0.87      0.76      2423\n",
      "           1       0.58      0.40      0.47      1748\n",
      "           2       0.37      0.30      0.33       633\n",
      "           3       0.40      0.32      0.35       584\n",
      "           4       0.50      0.67      0.58       189\n",
      "\n",
      "    accuracy                           0.59      5577\n",
      "   macro avg       0.50      0.51      0.50      5577\n",
      "weighted avg       0.57      0.59      0.57      5577\n",
      "\n"
     ]
    }
   ],
   "source": [
    "from sklearn.tree import DecisionTreeClassifier\n",
    "from sklearn.ensemble import AdaBoostClassifier\n",
    "base_estimator=DecisionTreeClassifier(max_depth=1,criterion='gini', splitter='best', min_samples_split=2)\n",
    "model = AdaBoostClassifier(base_estimator=base_estimator,n_estimators=100)\n",
    "model.fit(X, y)\n",
    "predictions = model.predict(X)\n",
    "print(\"*Confusion Matrix for GBDT: \")\n",
    "print(confusion_matrix(y, predictions))\n",
    "val10 = (accuracy_score(y, predictions)*100)\n",
    "print(\"*Accuracy score for GBDT: \", val10, \"\\n\")\n",
    "print(\"*Classification Report for GBDT: \")\n",
    "print(classification_report(y, predictions))"
   ]
  },
  {
   "cell_type": "markdown",
   "metadata": {},
   "source": [
    "# Bagging + GBDT"
   ]
  },
  {
   "cell_type": "code",
   "execution_count": 46,
   "metadata": {},
   "outputs": [
    {
     "name": "stdout",
     "output_type": "stream",
     "text": [
      "*Confusion Matrix for Bagging + GBDT: \n",
      "[[2423    0    0    0    0]\n",
      " [ 743 1005    0    0    0]\n",
      " [ 160  187  286    0    0]\n",
      " [ 138  130   82  234    0]\n",
      " [   0   10   30   22  127]]\n"
     ]
    }
   ],
   "source": [
    "from sklearn.ensemble import ExtraTreesClassifier\n",
    "clf1 = ExtraTreesClassifier(n_estimators=1000, max_features=7, random_state=42)\n",
    "eclf1 = VotingClassifier(estimators=[('bagging', clf1), ('gbdt', model)], voting='hard')\n",
    "eclf1.fit(X, y)\n",
    "predictions = eclf1.predict(X)\n",
    "print(\"*Confusion Matrix for Bagging + GBDT: \")\n",
    "print(confusion_matrix(y, predictions))"
   ]
  },
  {
   "cell_type": "code",
   "execution_count": 47,
   "metadata": {},
   "outputs": [
    {
     "name": "stdout",
     "output_type": "stream",
     "text": [
      "*Accuracy score for Bagging + GBDT:  73.0679576833423 \n",
      "\n",
      "*Classification Report for Bagging + GBDT: \n",
      "              precision    recall  f1-score   support\n",
      "\n",
      "           0       0.70      1.00      0.82      2423\n",
      "           1       0.75      0.57      0.65      1748\n",
      "           2       0.72      0.45      0.55       633\n",
      "           3       0.91      0.40      0.56       584\n",
      "           4       1.00      0.67      0.80       189\n",
      "\n",
      "    accuracy                           0.73      5577\n",
      "   macro avg       0.82      0.62      0.68      5577\n",
      "weighted avg       0.75      0.73      0.71      5577\n",
      "\n"
     ]
    }
   ],
   "source": [
    "val11 = (accuracy_score(y, predictions)*100)\n",
    "print(\"*Accuracy score for Bagging + GBDT: \", val11, \"\\n\")\n",
    "print(\"*Classification Report for Bagging + GBDT: \")\n",
    "print(classification_report(y, predictions))"
   ]
  },
  {
   "cell_type": "markdown",
   "metadata": {},
   "source": [
    "# Bagging + Fuzzy + GBDT"
   ]
  },
  {
   "cell_type": "code",
   "execution_count": 49,
   "metadata": {},
   "outputs": [
    {
     "name": "stdout",
     "output_type": "stream",
     "text": [
      "*Confusion Matrix for Bagging + Fuzzy + GBDT: \n",
      "[[2397   26    0    0    0]\n",
      " [  42 1706    0    0    0]\n",
      " [   0    0  633    0    0]\n",
      " [  11    0    0  573    0]\n",
      " [   0    0    0    0  189]]\n",
      "*Accuracy score for Bagging + Fuzzy + GBDT:  98.58346781423705 \n",
      "\n",
      "*Classification Report for Bagging + Fuzzy + GBDT: \n",
      "              precision    recall  f1-score   support\n",
      "\n",
      "           0       0.98      0.99      0.98      2423\n",
      "           1       0.98      0.98      0.98      1748\n",
      "           2       1.00      1.00      1.00       633\n",
      "           3       1.00      0.98      0.99       584\n",
      "           4       1.00      1.00      1.00       189\n",
      "\n",
      "    accuracy                           0.99      5577\n",
      "   macro avg       0.99      0.99      0.99      5577\n",
      "weighted avg       0.99      0.99      0.99      5577\n",
      "\n"
     ]
    }
   ],
   "source": [
    "eclf1 = VotingClassifier(estimators=[('bagging', clf1),('fuzzy', clf2), ('gbdt', model)], voting='hard')\n",
    "eclf1.fit(X, y)\n",
    "predictions = eclf1.predict(X)\n",
    "print(\"*Confusion Matrix for Bagging + Fuzzy + GBDT: \")\n",
    "print(confusion_matrix(y, predictions))\n",
    "val13 = (accuracy_score(y, predictions)*100)\n",
    "print(\"*Accuracy score for Bagging + Fuzzy + GBDT: \", val13, \"\\n\")\n",
    "print(\"*Classification Report for Bagging + Fuzzy + GBDT: \")\n",
    "print(classification_report(y, predictions))"
   ]
  },
  {
   "cell_type": "markdown",
   "metadata": {},
   "source": [
    "# Accuracy Comparison"
   ]
  },
  {
   "cell_type": "code",
   "execution_count": 63,
   "metadata": {},
   "outputs": [],
   "source": [
    "score = [val1,val3,val4,val8,val10,val11,val13]"
   ]
  },
  {
   "cell_type": "code",
   "execution_count": 64,
   "metadata": {},
   "outputs": [
    {
     "name": "stdout",
     "output_type": "stream",
     "text": [
      "[0 1 2 3 4 5 6]\n",
      "[53.05719921104537, 59.54814416352878, 60.15779092702169, 60.83916083916085, 59.26125156894388, 73.0679576833423, 98.58346781423705]\n"
     ]
    }
   ],
   "source": [
    "#make variabel for save the result and to show it\n",
    "classifier = ('SVM','DT','LR','Gaussian Naive Bayes','GBDT','Bagging+GBDT','Bagging+Fuzzy+GBDT')\n",
    "y_pos = np.arange(len(classifier))\n",
    "print(y_pos)\n",
    "print(score)"
   ]
  },
  {
   "cell_type": "code",
   "execution_count": 65,
   "metadata": {},
   "outputs": [
    {
     "data": {
      "image/png": "[encoded data removed]",
      "text/plain": [
       "<Figure size 432x288 with 1 Axes>"
      ]
     },
     "metadata": {},
     "output_type": "display_data"
    }
   ],
   "source": [
    "import matplotlib.pyplot as plt2\n",
    "plt2.barh(y_pos, score, align='center', alpha=0.5,color='blue')\n",
    "plt2.yticks(y_pos, classifier)\n",
    "plt2.xlabel('Score')\n",
    "plt2.title('Classification Performance')\n",
    "plt2.show()"
   ]
  },
  {
   "cell_type": "code",
   "execution_count": 62,
   "metadata": {},
   "outputs": [
    {
     "data": {
      "text/plain": [
       "['model.sav']"
      ]
     },
     "execution_count": 62,
     "metadata": {},
     "output_type": "execute_result"
    }
   ],
   "source": [
    "import joblib\n",
    "filename = 'model.sav'\n",
    "joblib.dump(vot, filename)"
   ]
  },
  {
   "cell_type": "code",
   "execution_count": null,
   "metadata": {},
   "outputs": [],
   "source": []
  }
 ],
 "metadata": {
  "kernelspec": {
   "display_name": "Python 3",
   "language": "python",
   "name": "python3"
  },
  "language_info": {
   "codemirror_mode": {
    "name": "ipython",
    "version": 3
   },
   "file_extension": ".py",
   "mimetype": "text/x-python",
   "name": "python",
   "nbconvert_exporter": "python",
   "pygments_lexer": "ipython3",
   "version": "3.8.5"
  }
 },
 "nbformat": 4,
 "nbformat_minor": 1
}
